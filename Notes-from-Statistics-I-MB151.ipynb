{
 "cells": [
  {
   "cell_type": "markdown",
   "metadata": {},
   "source": [
    "# Notes from Statistics-I MB151"
   ]
  },
  {
   "cell_type": "markdown",
   "metadata": {},
   "source": [
    "## Bayes' Theorem"
   ]
  },
  {
   "cell_type": "markdown",
   "metadata": {},
   "source": [
    "### Theorem\n",
    "$$\n",
    "\\mathcal{P}(\\theta \\mid \\mathcal{Data}) =\n",
    "\\frac{\\mathcal{P}(\\mathcal{Data} \\mid \\theta) \\cdot \\mathcal{P}(\\theta)}\n",
    "{\\mathcal{P}(\\mathcal{Data})}\n",
    "$$\n",
    "\n",
    "The prior probability of the outcome theta is $\\mathcal{P}(\\theta)$, this probability is assumed and not deduced from the $\\mathcal{Data}$, it is often based on an educated guess or prior knowledge. $\\mathcal{P}(\\theta)$ can for instance represent the probability of having a disease.\n",
    "\n",
    "$\\mathcal{Data}$ represents the new information we've found about something. It can for instance refer to some new testing.\n",
    "\n",
    "$\\mathcal{P}(\\theta \\mid \\mathcal{Data})$ represents the true probability of theta given the new Data.\n",
    "\n",
    "### Example\n",
    "Let's illustrate how Bayes' theorem can help us to answer important question using the example of COVID-19 testing.\n",
    "\n",
    "We know that the one out of 50 people has COVID-19. The test is guaranteed to detect the virus in someone if he has it and it has a 99.9% chance of correctly identifying that someone does not have the virus, therefore it's got a 0.1% chance of a false positive.\n",
    "\n",
    "Given I was tested positive, what is the true probability that I actually am infected?\n",
    "\n",
    "In this case, the prior knowledge theta is that $\\frac{1}{50}$ of population suffer from COVID-19, thus how likely am I to have the infection regardless of some test.\n",
    "The $\\mathcal{Data}$ is what we know about test.\n",
    "\n",
    "So what we're truly interested in is $\\mathcal{P}(\\mathcal{covid} \\mid \\mathcal{+test})$.\n",
    "\n",
    "$$\n",
    "\\mathcal{P}(\\mathcal{covid} given \\mathcal{+test}) =\n",
    "\\frac{\\mathcal{P}(\\mathcal{+test} given \\mathcal{covid}) \\cdot \\mathcal{P}(\\mathcal{covid})}\n",
    "{\\mathcal{P}(\\mathcal{+test})}\n",
    "=\n",
    "\\frac{\\mathcal{1} \\cdot \\frac{1}{50}}{\\frac{1}{50} + \\frac{49}{50} \\cdot 0.001}\n",
    "= 0.9532888\n",
    "$$\n",
    "\n",
    "So one should really believe the test."
   ]
  }
 ],
 "metadata": {
  "kernelspec": {
   "display_name": "Python 3",
   "language": "python",
   "name": "python3"
  }
 },
 "nbformat": 4,
 "nbformat_minor": 4
}
